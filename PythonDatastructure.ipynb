{
  "nbformat": 4,
  "nbformat_minor": 0,
  "metadata": {
    "colab": {
      "provenance": []
    },
    "kernelspec": {
      "name": "python3",
      "display_name": "Python 3"
    },
    "language_info": {
      "name": "python"
    }
  },
  "cells": [
    {
      "cell_type": "markdown",
      "source": [
        "# **ASSIGNMENT: Python- Data Structure**"
      ],
      "metadata": {
        "id": "2ebjsDCbHRcs"
      }
    },
    {
      "cell_type": "markdown",
      "source": [
        "  1. What are data structures, and why are they important?\n",
        "\n",
        "     => Data structures are organized ways to store and arrange data (like lists, tuples, sets, dicts) so operations become efficient. The right structure reduces time/space, makes algorithms simpler, and improves code clarity.\n",
        "\n",
        "  2. Explain the difference between mutable and immutable data types with   examples.\n",
        "\n",
        "     => Mutable: can change in place (e.g., list, dict, set).\n",
        "        Immutable: cannot change once created (e.g., int, float, str, tuple).\n",
        "        \n",
        "        Example: lst=[1,2]; lst.append(3) (changes). s=\"hi\"; s.upper() returns a new string.\n",
        "      \n",
        "  3. What are the main differences between lists and tuples in Python?\n",
        "\n",
        "     => Lists: [ ], mutable, typically used for collections that change.\n",
        "      \n",
        "      Tuples: ( ), immutable, often used for fixed records/keys, safer for constants.\n",
        "\n",
        "  4. Describe how dictionaries store data.\n",
        "\n",
        "     => Dictionaries are hash tables: they map keys to values using a hash function so average-time lookup/insertion is O(1).\n",
        "\n",
        "  5. Why might you use a set instead of a list in Python?\n",
        "\n",
        "     => Sets automatically remove duplicates and provide average O(1) membership tests (x in set_obj), which is faster than lists’ O(n).\n",
        "\n",
        "  6. What is a string in Python, and how is it different from a list?\n",
        "\n",
        "     => A string is an immutable sequence of characters; a list is a mutable sequence of items. You can’t change a string in place; you can modify a list.\n",
        "\n",
        "  7. How do tuples ensure data integrity in Python?\n",
        "\n",
        "     => Being immutable, tuples prevent accidental modification of grouped values, making them good for fixed records and as dictionary keys.\n",
        "\n",
        "  8. What is a hash table, and how does it relate to dictionaries in Python?\n",
        "\n",
        "     => A hash table stores key–value pairs in buckets indexed by the key’s hash. Python dict is a highly optimized hash table.\n",
        "\n",
        "  9. Can lists contain different data types in Python?\n",
        "\n",
        "     => Yes, a single list can mix int, str, float, even other containers.\n",
        "\n",
        "  10. Explain why strings are immutable in Python?\n",
        "\n",
        "     => Immutability enables safe sharing, interning, and hashing of strings, which improves performance and allows strings to be used as dict keys reliably.\n",
        "\n",
        "  11. What advantages do dictionaries offer over lists for certain tasks?\n",
        "   \n",
        "      => Keyed access: O(1) lookup by meaningful keys, clearer code, and no need to scan indexes. Perfect for mappings/records.\n",
        "\n",
        "  12. Describe a scenario where using a tuple would be preferable over a list.\n",
        "\n",
        "      => When you want a fixed record (e.g., (latitude, longitude)) or to use the collection as a dict key/set element.\n",
        "\n",
        "  13. How do sets handle duplicate values in Python?\n",
        "\n",
        "      => Sets store unique elements only; inserting a duplicate has no effect.\n",
        "\n",
        "  14. How does the “in” keyword work differently for lists and dictionaries?\n",
        "\n",
        "      => List: checks if an element exists by scanning (O(n)).\n",
        "\n",
        "         Dict: checks if a key exists via hashing (average O(1)).\n",
        "\n",
        "  15. Can you modify the elements of a tuple? Explain why or why not?\n",
        "\n",
        "      => No, Tuples are immutable; their content (the item references) cannot be reassigned after creation.\n",
        "\n",
        "  16. What is a nested dictionary, and give an example of its use case?\n",
        "\n",
        "      => A dictionary whose values are dictionaries. Example: student records:\n",
        "        students = {\"A101\": {\"name\":\"Riya\",\"age\":20}, \"A102\":{\"name\":\"Arjun\",\"age\":22}} — useful for hierarchical data.\n",
        "\n",
        "  17. Describe the time complexity of accessing elements in a dictionary.\n",
        "      \n",
        "      => Average-case O(1); worst-case O(n) (rare, pathological collisions).\n",
        "\n",
        "  18. In what situations are lists preferred over dictionaries?\n",
        "\n",
        "      => When order matters, duplicates are needed, or you only need positional access/iteration without key–value mapping.\n",
        "\n",
        "  19. Why are dictionaries considered unordered, and how does that affect data retrieval?\n",
        "\n",
        "      => Historically, dicts didn’t promise order. (Modern CPython preserves insertion order, but algorithmically you should not rely on it for semantics unless specified.) Retrieval by key doesn’t depend on position.\n",
        "\n",
        "  20. Explain the difference between a list and a dictionary in terms of data retrieval.\n",
        "\n",
        "     => List retrieval uses integer indices/position; dictionary retrieval uses keys (name-based), typically faster for lookups by label.\n",
        "\n"
      ],
      "metadata": {
        "id": "alj_EjJHH16K"
      }
    },
    {
      "cell_type": "markdown",
      "source": [
        "# Practical Questions"
      ],
      "metadata": {
        "id": "LdTEUjZBRcvb"
      }
    },
    {
      "cell_type": "code",
      "source": [
        "# 1. Write a code to create a string with your name and print it.\n",
        "name = \"Mohit Kumar\"\n",
        "print(name)"
      ],
      "metadata": {
        "colab": {
          "base_uri": "https://localhost:8080/"
        },
        "id": "6GRFNUIKNv9y",
        "outputId": "005af080-0fbc-43d9-f5f4-46e9ff7cec33"
      },
      "execution_count": 2,
      "outputs": [
        {
          "output_type": "stream",
          "name": "stdout",
          "text": [
            "Mohit Kumar\n"
          ]
        }
      ]
    },
    {
      "cell_type": "code",
      "metadata": {
        "colab": {
          "base_uri": "https://localhost:8080/"
        },
        "id": "7e7d542a",
        "outputId": "5fe17cd1-9133-46d8-8c16-e1660698a7dc"
      },
      "source": [
        "# 2. Write a code to find the length of the string \"Hello World\".\n",
        "string = \"Hello World\"\n",
        "print(string)\n",
        "print(len(string))\n"
      ],
      "execution_count": 7,
      "outputs": [
        {
          "output_type": "stream",
          "name": "stdout",
          "text": [
            "Hello World\n",
            "11\n"
          ]
        }
      ]
    },
    {
      "cell_type": "code",
      "source": [
        "# 3. Write a code to slice the first 3 characters from the string \"Python Programming\".\n",
        "string = \"Python Programming\"\n",
        "print(string[:3])"
      ],
      "metadata": {
        "colab": {
          "base_uri": "https://localhost:8080/"
        },
        "id": "w54CFMYbUmzA",
        "outputId": "e80cd15b-86fc-4fe4-f51e-878916261c47"
      },
      "execution_count": 8,
      "outputs": [
        {
          "output_type": "stream",
          "name": "stdout",
          "text": [
            "Pyt\n"
          ]
        }
      ]
    },
    {
      "cell_type": "code",
      "source": [
        "# 4. Write a code to convert the string \"hello\" to uppercase.\n",
        "string= \"hello\"\n",
        "print(string.upper())"
      ],
      "metadata": {
        "colab": {
          "base_uri": "https://localhost:8080/"
        },
        "id": "TSWuX6l3U-mg",
        "outputId": "5c3d6ab3-197c-4eba-c4bb-177c2cd2ccda"
      },
      "execution_count": 9,
      "outputs": [
        {
          "output_type": "stream",
          "name": "stdout",
          "text": [
            "HELLO\n"
          ]
        }
      ]
    },
    {
      "cell_type": "code",
      "source": [
        "# 5. Write a code to replace the word \"apple\" with \"orange\" in the string \"I like apple\".\n",
        "string= \"I like apple\"\n",
        "print(string.replace(\"apple\",\"orange\"))"
      ],
      "metadata": {
        "colab": {
          "base_uri": "https://localhost:8080/"
        },
        "id": "CxzZ4l0hVdPm",
        "outputId": "09fa1623-ee90-4e3c-cb6f-e94b98b8e9c6"
      },
      "execution_count": 10,
      "outputs": [
        {
          "output_type": "stream",
          "name": "stdout",
          "text": [
            "I like orange\n"
          ]
        }
      ]
    },
    {
      "cell_type": "code",
      "source": [
        "# 6. Write a code to create a list with numbers 1 to 5 and print it.\n",
        "numbers= (1,2,3,4,5)\n",
        "print(numbers)"
      ],
      "metadata": {
        "colab": {
          "base_uri": "https://localhost:8080/"
        },
        "id": "YmLeRAQFV1jb",
        "outputId": "52874861-da39-4c84-bbc6-76f028b5e888"
      },
      "execution_count": 11,
      "outputs": [
        {
          "output_type": "stream",
          "name": "stdout",
          "text": [
            "(1, 2, 3, 4, 5)\n"
          ]
        }
      ]
    },
    {
      "cell_type": "code",
      "source": [
        "# 7. Write a code to append the number 10 to the list [1, 2, 3, 4].\n",
        "list= [ 1, 2, 3, 4]\n",
        "list.append(10)\n",
        "print(list)"
      ],
      "metadata": {
        "colab": {
          "base_uri": "https://localhost:8080/"
        },
        "id": "OjR710w2WLM7",
        "outputId": "428ec528-de37-4208-96d1-46daa4b6917d"
      },
      "execution_count": 12,
      "outputs": [
        {
          "output_type": "stream",
          "name": "stdout",
          "text": [
            "[1, 2, 3, 4, 10]\n"
          ]
        }
      ]
    },
    {
      "cell_type": "code",
      "source": [
        "# 8. Write a code to remove the number 3 from the list [1, 2, 3, 4, 5].\n",
        "list=[ 1, 2, 3, 4, 5]\n",
        "list.remove(3)\n",
        "print(list)"
      ],
      "metadata": {
        "colab": {
          "base_uri": "https://localhost:8080/"
        },
        "id": "8NXyW1ItWfPk",
        "outputId": "3dd54df0-9663-433e-d886-01acc3bc789e"
      },
      "execution_count": 14,
      "outputs": [
        {
          "output_type": "stream",
          "name": "stdout",
          "text": [
            "[1, 2, 4, 5]\n"
          ]
        }
      ]
    },
    {
      "cell_type": "code",
      "source": [
        "# 9. Write a code to access the second element in the list ['a', 'b', 'c', 'd'].\n",
        "list= ['a', 'b', 'c', 'd']\n",
        "print(list[1])"
      ],
      "metadata": {
        "colab": {
          "base_uri": "https://localhost:8080/"
        },
        "id": "kOC2P4DzWsoY",
        "outputId": "a85da221-34d1-4d60-e76e-206e2ae5df9e"
      },
      "execution_count": 15,
      "outputs": [
        {
          "output_type": "stream",
          "name": "stdout",
          "text": [
            "b\n"
          ]
        }
      ]
    },
    {
      "cell_type": "code",
      "source": [
        "# 10. Write a code to reverse the list [10, 20, 30, 40, 50].\n",
        "list= [10, 20, 30, 40, 50]\n",
        "list.reverse()\n",
        "print(list)"
      ],
      "metadata": {
        "colab": {
          "base_uri": "https://localhost:8080/"
        },
        "id": "BicWi0XxW4ww",
        "outputId": "7c2a7bca-a458-494b-8eb0-3e2948e19ca5"
      },
      "execution_count": 18,
      "outputs": [
        {
          "output_type": "stream",
          "name": "stdout",
          "text": [
            "[50, 40, 30, 20, 10]\n"
          ]
        }
      ]
    },
    {
      "cell_type": "code",
      "source": [
        "# 11. Write a code to create a tuple with the elements 100, 200, 300 and print it.\n",
        "tuple= (100, 200, 300)\n",
        "print(tuple)"
      ],
      "metadata": {
        "colab": {
          "base_uri": "https://localhost:8080/"
        },
        "id": "fuwjowQCXXj_",
        "outputId": "40d461cc-1f6d-48c9-b568-de6c3b8eba98"
      },
      "execution_count": 19,
      "outputs": [
        {
          "output_type": "stream",
          "name": "stdout",
          "text": [
            "(100, 200, 300)\n"
          ]
        }
      ]
    },
    {
      "cell_type": "code",
      "source": [
        "# 12. Write a code to access the second-to-last element of the tuple ('red', 'green', 'blue', 'yellow').\n",
        "tuple= ('red', 'green', 'blue', 'yellow')\n",
        "print(tuple[-2])"
      ],
      "metadata": {
        "colab": {
          "base_uri": "https://localhost:8080/"
        },
        "id": "kjubbgvhXm63",
        "outputId": "d6f846f6-d34f-468d-983a-f580cf3a3e98"
      },
      "execution_count": 20,
      "outputs": [
        {
          "output_type": "stream",
          "name": "stdout",
          "text": [
            "blue\n"
          ]
        }
      ]
    },
    {
      "cell_type": "code",
      "source": [
        "# 13. Write a code to find the minimum number in the tuple (10, 20, 5, 15).\n",
        "tuple= (10, 20, 5, 15)\n",
        "print(min(tuple))"
      ],
      "metadata": {
        "colab": {
          "base_uri": "https://localhost:8080/"
        },
        "id": "xOaGJeOFX0rI",
        "outputId": "8cc85ef4-b8ca-429d-e70c-c0f41381f046"
      },
      "execution_count": 21,
      "outputs": [
        {
          "output_type": "stream",
          "name": "stdout",
          "text": [
            "5\n"
          ]
        }
      ]
    },
    {
      "cell_type": "code",
      "source": [
        "# 14. Write a code to find the index of the element \"cat\" in the tuple ('dog', 'cat', 'rabbit').\n",
        "tuple= ('dog', 'cat', 'rabbit')\n",
        "print(tuple.index(\"cat\"))"
      ],
      "metadata": {
        "colab": {
          "base_uri": "https://localhost:8080/"
        },
        "id": "9ZkSroUEX9xd",
        "outputId": "b81dd76d-2649-4631-c97c-a77459869dc8"
      },
      "execution_count": 22,
      "outputs": [
        {
          "output_type": "stream",
          "name": "stdout",
          "text": [
            "1\n"
          ]
        }
      ]
    },
    {
      "cell_type": "code",
      "source": [
        "# 15. Write a code to create a tuple containing three different fruits and check if \"kiwi\" is in it.\n",
        "fruits= (\"apple\", \"banana\", \"orange\")\n",
        "print(\"kiwi\" in fruits)"
      ],
      "metadata": {
        "colab": {
          "base_uri": "https://localhost:8080/"
        },
        "id": "m14xdXq7YJ27",
        "outputId": "11d2e9ad-d370-47a5-9a3e-3aab867d42a0"
      },
      "execution_count": 23,
      "outputs": [
        {
          "output_type": "stream",
          "name": "stdout",
          "text": [
            "False\n"
          ]
        }
      ]
    },
    {
      "cell_type": "code",
      "source": [
        "# 16. Write a code to create a set with the elements 'a', 'b', 'c' and print it.\n",
        "set= {'a', 'b', 'c'}\n",
        "print(set)"
      ],
      "metadata": {
        "colab": {
          "base_uri": "https://localhost:8080/"
        },
        "id": "KbJdHbkvYV3_",
        "outputId": "30db3cba-cbdf-4d2d-829b-459c4638c6f6"
      },
      "execution_count": 24,
      "outputs": [
        {
          "output_type": "stream",
          "name": "stdout",
          "text": [
            "{'a', 'c', 'b'}\n"
          ]
        }
      ]
    },
    {
      "cell_type": "code",
      "source": [
        "# 17. Write a code to clear all elements from the set {1, 2, 3, 4, 5}.\n",
        "set= {1, 2, 3, 4, 5}\n",
        "set.clear()\n",
        "print(set)"
      ],
      "metadata": {
        "colab": {
          "base_uri": "https://localhost:8080/"
        },
        "id": "KbXCDayKYf0j",
        "outputId": "9c748183-ff38-4db2-ee92-97ceee5f6662"
      },
      "execution_count": 25,
      "outputs": [
        {
          "output_type": "stream",
          "name": "stdout",
          "text": [
            "set()\n"
          ]
        }
      ]
    },
    {
      "cell_type": "code",
      "source": [
        "# 18. Write a code to remove the element 4 from the set {1, 2, 3, 4}.\n",
        "set= {1, 2, 3, 4}\n",
        "set.remove(4)\n",
        "print(set)"
      ],
      "metadata": {
        "colab": {
          "base_uri": "https://localhost:8080/"
        },
        "id": "fpZ19LttYmwS",
        "outputId": "a5424e67-027e-42af-ebbe-f19589284e1d"
      },
      "execution_count": 26,
      "outputs": [
        {
          "output_type": "stream",
          "name": "stdout",
          "text": [
            "{1, 2, 3}\n"
          ]
        }
      ]
    },
    {
      "cell_type": "code",
      "source": [
        "# 19. Write a code to find the union of two sets {1, 2, 3} and {3, 4, 5}.\n",
        "set1= {1, 2, 3}\n",
        "set2= {3, 4, 5}\n",
        "print(set1.union(set2))"
      ],
      "metadata": {
        "colab": {
          "base_uri": "https://localhost:8080/"
        },
        "id": "2qDzHKzyYuQi",
        "outputId": "42b359c9-eed1-4b7e-e868-37cd4d5a752c"
      },
      "execution_count": 27,
      "outputs": [
        {
          "output_type": "stream",
          "name": "stdout",
          "text": [
            "{1, 2, 3, 4, 5}\n"
          ]
        }
      ]
    },
    {
      "cell_type": "code",
      "source": [
        "# 20. Write a code to find the intersection of two sets {1, 2, 3} and {2, 3, 4}.\n",
        "set1= {1, 2, 3}\n",
        "set2= {2, 3, 4}\n",
        "print(set1.intersection(set2))"
      ],
      "metadata": {
        "colab": {
          "base_uri": "https://localhost:8080/"
        },
        "id": "EVTIhRIoY61A",
        "outputId": "0b04008b-16cf-4033-fa41-3be38e33604a"
      },
      "execution_count": 28,
      "outputs": [
        {
          "output_type": "stream",
          "name": "stdout",
          "text": [
            "{2, 3}\n"
          ]
        }
      ]
    },
    {
      "cell_type": "code",
      "source": [
        "# 21. Write a code to create a dictionary with the keys \"name\", \"age\", and \"city\", and print it.\n",
        "dict= {\"name\":\"Mohit\", \"age\":24, \"city\":\"Siwan\"}\n",
        "print(dict)"
      ],
      "metadata": {
        "colab": {
          "base_uri": "https://localhost:8080/"
        },
        "id": "OWdTKHTDZDYt",
        "outputId": "c34cf502-98c1-4557-85cb-cd76e4e1d535"
      },
      "execution_count": 29,
      "outputs": [
        {
          "output_type": "stream",
          "name": "stdout",
          "text": [
            "{'name': 'Mohit', 'age': 24, 'city': 'Siwan'}\n"
          ]
        }
      ]
    },
    {
      "cell_type": "code",
      "source": [
        "# 22. Write a code to add a new key-value pair \"country\": \"USA\" to the dictionary {'name': 'John', 'age': 25}.\n",
        "dict= {'name': 'John', 'age': 25}\n",
        "dict[\"country\"]= \"USA\"\n",
        "print(dict)"
      ],
      "metadata": {
        "colab": {
          "base_uri": "https://localhost:8080/"
        },
        "id": "Xpyg0rASZRyH",
        "outputId": "7f9f7b8a-5715-4619-c3bf-5eba92afc731"
      },
      "execution_count": 30,
      "outputs": [
        {
          "output_type": "stream",
          "name": "stdout",
          "text": [
            "{'name': 'John', 'age': 25, 'country': 'USA'}\n"
          ]
        }
      ]
    },
    {
      "cell_type": "code",
      "source": [
        "# 23. Write a code to access the value associated with the key \"name\" in the dictionary {'name': 'Alice', 'age': 30}.\n",
        "dict= {'name': 'Alice', 'age': 30}\n",
        "print(dict[\"name\"])"
      ],
      "metadata": {
        "colab": {
          "base_uri": "https://localhost:8080/"
        },
        "id": "m8NnS-yCZhB9",
        "outputId": "417769d0-bd82-4913-916e-91df126f389a"
      },
      "execution_count": 31,
      "outputs": [
        {
          "output_type": "stream",
          "name": "stdout",
          "text": [
            "Alice\n"
          ]
        }
      ]
    },
    {
      "cell_type": "code",
      "source": [
        "# 24. Write a code to remove the key \"age\" from the dictionary {'name': 'Bob', 'age': 22, 'city': 'New York'}.\n",
        "dict= {'name': 'Bob', 'age': 22, 'city': 'New York'}\n",
        "del dict[\"age\"]\n",
        "print(dict)"
      ],
      "metadata": {
        "colab": {
          "base_uri": "https://localhost:8080/"
        },
        "id": "7Xt2LJXbZ6Rb",
        "outputId": "5aa64ab8-e9b3-4d8a-b074-4fb1e2259782"
      },
      "execution_count": 32,
      "outputs": [
        {
          "output_type": "stream",
          "name": "stdout",
          "text": [
            "{'name': 'Bob', 'city': 'New York'}\n"
          ]
        }
      ]
    },
    {
      "cell_type": "code",
      "source": [
        "# 25. Write a code to check if the key \"city\" exists in the dictionary {'name': 'Alice', 'city': 'Paris'}.\n",
        "dict= {'name': 'Alice', 'city': 'Paris'}\n",
        "print(\"city\" in dict)"
      ],
      "metadata": {
        "colab": {
          "base_uri": "https://localhost:8080/"
        },
        "id": "xa4Db23AaEUL",
        "outputId": "472b5f3d-5311-408c-8906-49b57f42a2a2"
      },
      "execution_count": 33,
      "outputs": [
        {
          "output_type": "stream",
          "name": "stdout",
          "text": [
            "True\n"
          ]
        }
      ]
    },
    {
      "cell_type": "code",
      "source": [
        "# 26. Write a code to create a list, a tuple, and a dictionary, and print them all.\n",
        "list= [1,2,3]\n",
        "print(list)\n",
        "tuple= (1,2,3)\n",
        "print(tuple)\n",
        "dict= {\"name\":\"Mohit\", \"age\":24, \"city\":\"Siwan\"}\n",
        "print(dict)"
      ],
      "metadata": {
        "colab": {
          "base_uri": "https://localhost:8080/"
        },
        "id": "dcBtaHZWaQE1",
        "outputId": "271b1e15-8534-4cb7-8140-1fb68e28b33a"
      },
      "execution_count": 34,
      "outputs": [
        {
          "output_type": "stream",
          "name": "stdout",
          "text": [
            "[1, 2, 3]\n",
            "(1, 2, 3)\n",
            "{'name': 'Mohit', 'age': 24, 'city': 'Siwan'}\n"
          ]
        }
      ]
    },
    {
      "cell_type": "code",
      "source": [
        "# 27. Write a code to create a list of 5 random numbers between 1 and 100, sort it in ascending order, and print the result.(replaced).\n",
        "import random\n",
        "\n",
        "# Create a list of 5 random numbers between 1 and 100\n",
        "random_numbers = [random.randint(1, 100) for _ in range(5)]\n",
        "\n",
        "# Sort the list in ascending order\n",
        "random_numbers.sort()\n",
        "\n",
        "# Print the result\n",
        "print(random_numbers)"
      ],
      "metadata": {
        "colab": {
          "base_uri": "https://localhost:8080/"
        },
        "id": "lyg8fCvHanjh",
        "outputId": "9956a934-f42a-433b-81e8-80000a5e26de"
      },
      "execution_count": 36,
      "outputs": [
        {
          "output_type": "stream",
          "name": "stdout",
          "text": [
            "[7, 38, 53, 81, 98]\n"
          ]
        }
      ]
    },
    {
      "cell_type": "code",
      "source": [
        "# 28. Write a code to create a list with strings and print the element at the third index.\n",
        "list= [\"apple\", \"banana\", \"orange\", \"grape\", \"kiwi\"]\n",
        "print(list[2])"
      ],
      "metadata": {
        "colab": {
          "base_uri": "https://localhost:8080/"
        },
        "id": "WkX00nIBbpW1",
        "outputId": "850a63a4-6a2e-4c9b-ac02-78107827ade4"
      },
      "execution_count": 37,
      "outputs": [
        {
          "output_type": "stream",
          "name": "stdout",
          "text": [
            "orange\n"
          ]
        }
      ]
    },
    {
      "cell_type": "code",
      "source": [
        "# 29. Write a code to combine two dictionaries into one and print the result.\n",
        "dict1= {\"name\":\"Mohit\", \"age\":24}\n",
        "dict2= {\"city\":\"Siwan\", \"country\":\"India\"}\n",
        "dict1.update(dict2)\n",
        "print(dict1)"
      ],
      "metadata": {
        "colab": {
          "base_uri": "https://localhost:8080/"
        },
        "id": "ZkHAePAUb3Hz",
        "outputId": "401ee59c-2111-4d7c-f451-953ef3e230e0"
      },
      "execution_count": 38,
      "outputs": [
        {
          "output_type": "stream",
          "name": "stdout",
          "text": [
            "{'name': 'Mohit', 'age': 24, 'city': 'Siwan', 'country': 'India'}\n"
          ]
        }
      ]
    },
    {
      "cell_type": "code",
      "source": [
        "# 30. Write a code to convert a list of strings into a set.\n",
        "\n",
        "colour_list = [\"red\", \"green\", \"blue\", \"red\"]\n",
        "colour_set = set(colour_list)\n",
        "print(colour_set)\n",
        "\n"
      ],
      "metadata": {
        "colab": {
          "base_uri": "https://localhost:8080/"
        },
        "id": "w9Cu3QNAfp4d",
        "outputId": "6a7668e3-4dd4-49e3-9c46-282c1b92bcfa"
      },
      "execution_count": 58,
      "outputs": [
        {
          "output_type": "stream",
          "name": "stdout",
          "text": [
            "{'blue', 'red', 'green'}\n"
          ]
        }
      ]
    }
  ]
}